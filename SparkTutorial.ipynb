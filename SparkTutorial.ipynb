{
  "nbformat": 4,
  "nbformat_minor": 0,
  "metadata": {
    "colab": {
      "name": "SparkTutorial.ipynb",
      "version": "0.3.2",
      "provenance": [],
      "collapsed_sections": [],
      "toc_visible": true
    },
    "kernelspec": {
      "name": "python3",
      "display_name": "Python 3"
    }
  },
  "cells": [
    {
      "metadata": {
        "id": "Do1U0yxBG4q3",
        "colab_type": "code",
        "colab": {}
      },
      "cell_type": "code",
      "source": [
        "!apt-get install openjdk-8-jdk-headless -qq > /dev/null\n",
        "!wget -q http://www-us.apache.org/dist/spark/spark-2.3.1/spark-2.3.1-bin-hadoop2.7.tgz\n",
        "!tar xf spark-2.3.1-bin-hadoop2.7.tgz\n",
        "!pip install -q findspark\n",
        "!wget -q http://gitlab.cambridgespark.com/pub/bigdata-spark/raw/master/war-and-peace.txt"
      ],
      "execution_count": 0,
      "outputs": []
    },
    {
      "metadata": {
        "id": "Fi0Ox-hdHH2O",
        "colab_type": "code",
        "colab": {}
      },
      "cell_type": "code",
      "source": [
        "import os\n",
        "os.environ[\"JAVA_HOME\"] = \"/usr/lib/jvm/java-8-openjdk-amd64\"\n",
        "os.environ[\"SPARK_HOME\"] = \"/content/spark-2.3.1-bin-hadoop2.7\""
      ],
      "execution_count": 0,
      "outputs": []
    },
    {
      "metadata": {
        "id": "zEoFg4aAHIXK",
        "colab_type": "code",
        "colab": {}
      },
      "cell_type": "code",
      "source": [
        "import findspark\n",
        "findspark.init()\n",
        "from pyspark import SparkContext\n",
        "\n",
        "sc = SparkContext.getOrCreate()"
      ],
      "execution_count": 0,
      "outputs": []
    },
    {
      "metadata": {
        "id": "cLzjVyAlHKnF",
        "colab_type": "code",
        "outputId": "194918cf-13c9-4796-cb52-1068b035c010",
        "colab": {
          "base_uri": "https://localhost:8080/",
          "height": 193
        }
      },
      "cell_type": "code",
      "source": [
        "sc"
      ],
      "execution_count": 0,
      "outputs": [
        {
          "output_type": "execute_result",
          "data": {
            "text/html": [
              "\n",
              "        <div>\n",
              "            <p><b>SparkContext</b></p>\n",
              "\n",
              "            <p><a href=\"http://f2598fb97b93:4040\">Spark UI</a></p>\n",
              "\n",
              "            <dl>\n",
              "              <dt>Version</dt>\n",
              "                <dd><code>v2.3.1</code></dd>\n",
              "              <dt>Master</dt>\n",
              "                <dd><code>local[*]</code></dd>\n",
              "              <dt>AppName</dt>\n",
              "                <dd><code>pyspark-shell</code></dd>\n",
              "            </dl>\n",
              "        </div>\n",
              "        "
            ],
            "text/plain": [
              "<SparkContext master=local[*] appName=pyspark-shell>"
            ]
          },
          "metadata": {
            "tags": []
          },
          "execution_count": 4
        }
      ]
    },
    {
      "metadata": {
        "id": "cLOUmmXwHPUa",
        "colab_type": "code",
        "outputId": "84a8c27f-7fb2-4e67-e3fc-e78b61d730f6",
        "colab": {
          "base_uri": "https://localhost:8080/",
          "height": 34
        }
      },
      "cell_type": "code",
      "source": [
        "# A helper function to compute the list of words in a line of text\n",
        "import re\n",
        "def get_words(line):\n",
        "    return re.compile('\\w+').findall(line)\n",
        "\n",
        "print(get_words(\"This, is a test!\"))"
      ],
      "execution_count": 0,
      "outputs": [
        {
          "output_type": "stream",
          "text": [
            "['This', 'is', 'a', 'test']\n"
          ],
          "name": "stdout"
        }
      ]
    },
    {
      "metadata": {
        "id": "Bhp1h9qYVSOg",
        "colab_type": "text"
      },
      "cell_type": "markdown",
      "source": [
        "### Learning activity: Create RDD with `parallelize`\n",
        "Transform the list `words` into an rdd. The count should return `3`"
      ]
    },
    {
      "metadata": {
        "id": "nTjbrrfLU4CV",
        "colab_type": "code",
        "colab": {}
      },
      "cell_type": "code",
      "source": [
        ""
      ],
      "execution_count": 0,
      "outputs": []
    },
    {
      "metadata": {
        "id": "5TTiB3bnVVr7",
        "colab_type": "text"
      },
      "cell_type": "markdown",
      "source": [
        "### Learning activity: Create RDDs"
      ]
    },
    {
      "metadata": {
        "id": "2dkDdhzUVaZp",
        "colab_type": "text"
      },
      "cell_type": "markdown",
      "source": [
        "To analyse large datasets using Spark you will load them into Resilient Distributed Datasets (RDDs). There are a number of ways in which you can create RDDs. Use the `parallelize()` function to create one from a Python collection, and use the `textFile()` function to create an RDD from the file `data/war-and-peace.txt`. "
      ]
    },
    {
      "metadata": {
        "id": "oRhnaqzEVpSC",
        "colab_type": "code",
        "colab": {}
      },
      "cell_type": "code",
      "source": [
        ""
      ],
      "execution_count": 0,
      "outputs": []
    },
    {
      "metadata": {
        "id": "wCaLGNW_Vjq7",
        "colab_type": "text"
      },
      "cell_type": "markdown",
      "source": [
        "### Learning activity: Basic RDD manipulation"
      ]
    },
    {
      "metadata": {
        "id": "rlU_aPA2VZYy",
        "colab_type": "text"
      },
      "cell_type": "markdown",
      "source": [
        "Print the number of lines in War and Peace using the method `count()`"
      ]
    },
    {
      "metadata": {
        "id": "SDfpIO-SVs0i",
        "colab_type": "code",
        "colab": {}
      },
      "cell_type": "code",
      "source": [
        ""
      ],
      "execution_count": 0,
      "outputs": []
    },
    {
      "metadata": {
        "id": "BTfuFazxVtUm",
        "colab_type": "text"
      },
      "cell_type": "markdown",
      "source": [
        "Print the first 15 lines using the method `take()`."
      ]
    },
    {
      "metadata": {
        "id": "51CrCRKNVv_8",
        "colab_type": "code",
        "colab": {}
      },
      "cell_type": "code",
      "source": [
        ""
      ],
      "execution_count": 0,
      "outputs": []
    },
    {
      "metadata": {
        "id": "1y33wx4rVwf4",
        "colab_type": "text"
      },
      "cell_type": "markdown",
      "source": [
        "### Learning activity: `filter()` and `map()` and `distinct()`"
      ]
    },
    {
      "metadata": {
        "id": "hQgOWckRV2qn",
        "colab_type": "text"
      },
      "cell_type": "markdown",
      "source": [
        "Use `filter()` to count the number of lines which mention `war` and the number of lines which mention `peace`."
      ]
    },
    {
      "metadata": {
        "id": "2_iWzSb3Vyh9",
        "colab_type": "code",
        "colab": {}
      },
      "cell_type": "code",
      "source": [
        "# How often is war mentioned?"
      ],
      "execution_count": 0,
      "outputs": []
    },
    {
      "metadata": {
        "id": "tg4i7723V9Hx",
        "colab_type": "code",
        "colab": {}
      },
      "cell_type": "code",
      "source": [
        "# How often is peace mentioned?"
      ],
      "execution_count": 0,
      "outputs": []
    },
    {
      "metadata": {
        "id": "e9vKjSRTWAcJ",
        "colab_type": "text"
      },
      "cell_type": "markdown",
      "source": [
        "Use `map()` to capitalise each line in the RDD, and print the first 15 capitalized lines."
      ]
    },
    {
      "metadata": {
        "id": "SfvO8Qi3V-py",
        "colab_type": "code",
        "colab": {}
      },
      "cell_type": "code",
      "source": [
        "# Capitalize each line in the RDD"
      ],
      "execution_count": 0,
      "outputs": []
    },
    {
      "metadata": {
        "id": "5yQRV0nSWFZA",
        "colab_type": "text"
      },
      "cell_type": "markdown",
      "source": [
        "Use `flatMap()` to create an RDD of the words in War and Peace and count the number of words."
      ]
    },
    {
      "metadata": {
        "id": "b6HkaxaUWCPe",
        "colab_type": "code",
        "colab": {}
      },
      "cell_type": "code",
      "source": [
        "# Split each line into words using get_words()"
      ],
      "execution_count": 0,
      "outputs": []
    },
    {
      "metadata": {
        "id": "g_lC8xYDWJtr",
        "colab_type": "text"
      },
      "cell_type": "markdown",
      "source": [
        "Finally, use `distinct()` to count the number of different words in the RDD."
      ]
    },
    {
      "metadata": {
        "id": "yWVbcCiJWHwo",
        "colab_type": "code",
        "colab": {}
      },
      "cell_type": "code",
      "source": [
        "# Count the number of distinct words"
      ],
      "execution_count": 0,
      "outputs": []
    },
    {
      "metadata": {
        "id": "4-_kWZDqWPxp",
        "colab_type": "text"
      },
      "cell_type": "markdown",
      "source": [
        "### Learning activity: Set like transformations"
      ]
    },
    {
      "metadata": {
        "id": "2OT9ilbKWSMN",
        "colab_type": "text"
      },
      "cell_type": "markdown",
      "source": [
        "Use the function `union()` to create an RDD of lines with either war or peace mentioned. Count how many lines."
      ]
    },
    {
      "metadata": {
        "id": "fHgEx4YRWLm7",
        "colab_type": "code",
        "colab": {}
      },
      "cell_type": "code",
      "source": [
        ""
      ],
      "execution_count": 0,
      "outputs": []
    },
    {
      "metadata": {
        "id": "z561x05hWVFs",
        "colab_type": "text"
      },
      "cell_type": "markdown",
      "source": [
        "Use the function `intersection()` to create an RDD of lines with both war and peace being mentioned. Count how many lines."
      ]
    },
    {
      "metadata": {
        "id": "I9WMQvRuWVgE",
        "colab_type": "code",
        "colab": {}
      },
      "cell_type": "code",
      "source": [
        ""
      ],
      "execution_count": 0,
      "outputs": []
    },
    {
      "metadata": {
        "id": "MdUziWFFWXxx",
        "colab_type": "text"
      },
      "cell_type": "markdown",
      "source": [
        "Find all the lines that mention both war and peace without using `intersection()`"
      ]
    },
    {
      "metadata": {
        "id": "biFCZBmSWYBh",
        "colab_type": "code",
        "colab": {}
      },
      "cell_type": "code",
      "source": [
        ""
      ],
      "execution_count": 0,
      "outputs": []
    },
    {
      "metadata": {
        "id": "k6M7TjOqWZ8c",
        "colab_type": "text"
      },
      "cell_type": "markdown",
      "source": [
        "### Learning activity: `reduce()`"
      ]
    },
    {
      "metadata": {
        "id": "ijmNvFZSWa3_",
        "colab_type": "text"
      },
      "cell_type": "markdown",
      "source": [
        "You have already seen three actions: `collect()` which returns all elements in the RDD, `take(n)`, which return the first `n` elements of the RDD, and `count()` which returns the number of elements in the RDD.\n",
        "\n",
        "The action `reduce()` takes as input a function which collapses two elements into one. Use it to find the longest word in War and Peace."
      ]
    },
    {
      "metadata": {
        "id": "cakZqxKnWaQM",
        "colab_type": "code",
        "colab": {}
      },
      "cell_type": "code",
      "source": [
        ""
      ],
      "execution_count": 0,
      "outputs": []
    },
    {
      "metadata": {
        "id": "gFRJWkloWhij",
        "colab_type": "text"
      },
      "cell_type": "markdown",
      "source": [
        "The Python function `str.istitle()` returns `True` if the string `str` is titlecased: the first character is uppercase and others are lowercase. Use it to:\n",
        "* Find the set of distinct words in War and Peace which are titlecased\n",
        "* Find the set of distinct words in War and Peace which are not titlecased\n",
        "\n",
        "The Python function `str.lower()` returns a string with all characters of str lowercase. Use it, along with your previously generated RDD to find the set of words in War and Peace which only appear titlecased."
      ]
    },
    {
      "metadata": {
        "id": "K3puUD6NWiBX",
        "colab_type": "code",
        "colab": {}
      },
      "cell_type": "code",
      "source": [
        ""
      ],
      "execution_count": 0,
      "outputs": []
    },
    {
      "metadata": {
        "id": "q-gtTEV4WnZ-",
        "colab_type": "text"
      },
      "cell_type": "markdown",
      "source": [
        "### Learning activity: WordCount in Spark\n",
        "\n",
        "Use the functions `flatMap()` and `reduceByKey()` to count the number of occurences of each word in War and Peace, and print the count of five words."
      ]
    },
    {
      "metadata": {
        "id": "Bn5vN8HVWj_R",
        "colab_type": "code",
        "colab": {}
      },
      "cell_type": "code",
      "source": [
        ""
      ],
      "execution_count": 0,
      "outputs": []
    },
    {
      "metadata": {
        "id": "JjVCf2kPWtD-",
        "colab_type": "text"
      },
      "cell_type": "markdown",
      "source": [
        "### Learning activity: using `groupByKey()`\n",
        "Reimplement the above word count using `groupByKey()` instead of `reduceByKey()`"
      ]
    },
    {
      "metadata": {
        "id": "yoD4OJIuWviR",
        "colab_type": "code",
        "colab": {}
      },
      "cell_type": "code",
      "source": [
        ""
      ],
      "execution_count": 0,
      "outputs": []
    }
  ]
}